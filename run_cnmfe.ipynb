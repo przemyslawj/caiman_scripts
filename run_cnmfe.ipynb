{
 "cells": [
  {
   "cell_type": "markdown",
   "metadata": {},
   "source": [
    "# Runs CNMFE on motion corrected videos"
   ]
  },
  {
   "cell_type": "code",
   "execution_count": null,
   "metadata": {},
   "outputs": [],
   "source": [
    "from datetime import datetime\n",
    "import scipy.io as sio\n",
    "import re\n",
    "import os\n",
    "import h5py\n",
    "import csv\n",
    "import tensorflow as tf\n",
    "import time\n",
    "import logging\n",
    "import zipfile\n",
    "import matplotlib.pyplot as plt\n",
    "import matplotlib as mpl\n",
    "mpl.style.use('default')\n",
    "import numpy as np\n",
    "from moviepy.editor import *\n",
    "import smtplib\n",
    "\n",
    "import caiman as cm\n",
    "from caiman.source_extraction import cnmf\n",
    "from caiman.utils.visualization import inspect_correlation_pnr, nb_inspect_correlation_pnr\n",
    "from caiman.motion_correction import MotionCorrect\n",
    "from caiman.source_extraction.cnmf import params as params\n",
    "import peakutils\n",
    "\n",
    "import bokeh.plotting as bpl\n",
    "import holoviews as hv\n",
    "bpl.output_notebook()\n",
    "hv.notebook_extension('bokeh')"
   ]
  },
  {
   "cell_type": "code",
   "execution_count": null,
   "metadata": {},
   "outputs": [],
   "source": [
    "#%% restart cluster to clean up memory\n",
    "#if 'dview' in locals():\n",
    "#    cm.stop_server(dview=dview)\n",
    "c, dview, n_processes = cm.cluster.setup_cluster(\n",
    "    backend='local', n_processes=2, single_thread=False, ignore_preexisting=True)\n",
    "n_processes"
   ]
  },
  {
   "cell_type": "markdown",
   "metadata": {},
   "source": [
    "## Load Motion Corrected data"
   ]
  },
  {
   "cell_type": "code",
   "execution_count": null,
   "metadata": {},
   "outputs": [],
   "source": [
    "import pandas as pd\n",
    "params_csv = pd.read_csv('/home/prez/neurodata/cheeseboard-down/down_2/2020-10/cnmfe_params.csv')\n",
    "animal_params = params_csv[params_csv['animal'] == 'O-TR']"
   ]
  },
  {
   "cell_type": "code",
   "execution_count": null,
   "metadata": {},
   "outputs": [],
   "source": [
    "src_dir1 = '/home/prez/neurodata/cheeseboard-down/down_2/2020-10/learning/2020_10_22/trial/O-TR/Session1/13_00_16/Miniscope/'\n",
    "fnames = ['memmap_0000_d1_112_d2_174_d3_1_order_C_frames_1000_.mmap',\n",
    "          'memmap_0001_d1_112_d2_174_d3_1_order_C_frames_433_.mmap']\n",
    "fpaths = [src_dir1 + f for f in fnames]\n",
    "src_dir2 = '/home/prez/neurodata/cheeseboard-down/down_2/2020-10/learning/2020_10_22/trial/O-TR/Session8/13_25_55/Miniscope/'\n",
    "fnames = ['memmap_0011_d1_112_d2_174_d3_1_order_C_frames_911_.mmap',\n",
    "          'memmap_0012_d1_112_d2_174_d3_1_order_C_frames_169_.mmap']\n",
    "          \n",
    "fpaths = fpaths + [src_dir2 + f for f in fnames]\n",
    "\n",
    "input_mmap_path = fpaths[0]\n",
    "if len(fpaths) > 0:\n",
    "    input_mmap_path = cm.save_memmap(fpaths, base_name='memmap_', order='C',border_to_0=0)\n",
    "\n",
    "# load memory mappable file\n",
    "Yr, dims, T = cm.load_memmap(input_mmap_path)\n",
    "images = Yr.T.reshape((T,) + dims, order='F')\n",
    "images.shape"
   ]
  },
  {
   "cell_type": "code",
   "execution_count": null,
   "metadata": {},
   "outputs": [],
   "source": [
    "# Compute some summary images (correlation and peak to noise) while downsampling temporally 5x to speedup the process and avoid memory overflow\n",
    "cn_filter, pnr = cm.summary_images.correlation_pnr(images[::5], gSig=3, swap_dim=False) # change swap dim if output looks weird, it is a problem with tiffile\n",
    "\n",
    "#Plot the results of the correlation/PNR projection\n",
    "#plt.figure(figsize=(20,10))\n",
    "#plt.subplot(2, 2, 1); plt.imshow(cn_filter); plt.colorbar(); plt.title('Correlation projection')\n",
    "#plt.subplot(2, 2, 2); plt.imshow(pnr); plt.colorbar(); plt.title('PNR')\n",
    "\n",
    "inspect_correlation_pnr(cn_filter, pnr)             "
   ]
  },
  {
   "cell_type": "markdown",
   "metadata": {},
   "source": [
    "## Run CNMFE"
   ]
  },
  {
   "cell_type": "code",
   "execution_count": null,
   "metadata": {},
   "outputs": [],
   "source": [
    "gSig = (4, 4)\n",
    "gSiz = (19, 19)  # average diameter of a neuron, in general 4*gSig+1\n",
    "decay_time_sec = 0.4\n",
    "min_corr = .8  # min peak value from correlation image\n",
    "min_pnr = 8  # min peak to noise ration from PNR image\n",
    "ring_size_factor = 1.6  # radius of ring is gSiz*ring_size_factor\n",
    "    \n",
    "p = 1               # order of the autoregressive system\n",
    "K = None            # upper bound on number of components per patch, in general None for 1p data\n",
    "merge_thr = .7      # merging threshold, max correlation allowed\n",
    "rf = 40             # half-size of the patches in pixels. e.g., if rf=40, patches are 80x80\n",
    "stride_cnmf = 20    # amount of overlap between the patches in pixels\n",
    "#                     (keep it at least large as gSiz, i.e 4 times the neuron size gSig)\n",
    "tsub = 2            # downsampling factor in time for initialization,\n",
    "#                     increase if you have memory problems\n",
    "ssub = 1            # downsampling factor in space for initialization,\n",
    "#                     increase if you have memory problems\n",
    "#                     you can pass them here as boolean vectors\n",
    "low_rank_background = None  # None leaves background of each patch intact,\n",
    "#                     True performs global low-rank approximation if gnb>0\n",
    "gnb = 0             # number of background components (rank) if positive,\n",
    "#                     else exact ring model with following settings\n",
    "#                         gnb= 0: Return background as b and W\n",
    "#                         gnb=-1: Return full rank background B\n",
    "#                         gnb<-1: Don't return background\n",
    "nb_patch = 0        # number of background components (rank) per patch if gnb>0,\n",
    "#                     else it is set automatically\n",
    "ssub_B = 2          # additional downsampling factor in space for background\n",
    "\n",
    "\n",
    "opts = params.CNMFParams(params_dict={'dims': dims,\n",
    "                                'fr': 20,\n",
    "                                'method_init': 'corr_pnr',  # use this for 1 photon\n",
    "                                'K': K,\n",
    "                                'decay_time': decay_time_sec,\n",
    "                                'gSig': gSig,\n",
    "                                'gSiz': gSiz,\n",
    "                                'merge_thr': merge_thr,\n",
    "                                'p': p,\n",
    "                                'tsub': tsub,\n",
    "                                'ssub': ssub,\n",
    "                                'rf': rf,\n",
    "                                'stride': stride_cnmf,\n",
    "                                'only_init': True,    # set it to True to run CNMF-E\n",
    "                                'nb': gnb,\n",
    "                                'nb_patch': nb_patch,\n",
    "                                'method_deconvolution': 'oasis',       # could use 'cvxpy' alternatively\n",
    "                                'low_rank_background': low_rank_background,\n",
    "                                'update_background_components': True,  # sometimes setting to False improve the results\n",
    "                                'min_corr': min_corr,\n",
    "                                'min_pnr': min_pnr,\n",
    "                                'normalize_init': False,               # just leave as is\n",
    "                                'center_psf': True,                    # leave as is for 1 photon\n",
    "                                'ssub_B': ssub_B,\n",
    "                                'ring_size_factor': ring_size_factor,\n",
    "                                'del_duplicates': True,                # whether to remove duplicates from initialization\n",
    "                                'border_pix': 2})                # number of pixels to not consider in the borders)\n"
   ]
  },
  {
   "cell_type": "code",
   "execution_count": null,
   "metadata": {},
   "outputs": [],
   "source": [
    "start = time.time()\n",
    "# Perform CNMF\n",
    "cnm = cnmf.CNMF(n_processes=n_processes, dview=dview, Ain=None, params=opts)\n",
    "cnm.fit(images)\n",
    "\n",
    "end = time.time()\n",
    "print(end - start)"
   ]
  },
  {
   "cell_type": "markdown",
   "metadata": {},
   "source": [
    "## Component Evaluation\n",
    "The components are evaluated in three ways:\n",
    "- the shape of each component must be correlated with the data\n",
    "- a minimum peak SNR is required over the length of a transient\n",
    "- each shape passes a CNN based classifier"
   ]
  },
  {
   "cell_type": "code",
   "execution_count": null,
   "metadata": {},
   "outputs": [],
   "source": [
    "#%% COMPONENT EVALUATION\n",
    "\n",
    "#import os\n",
    "#os.environ[\"CAIMAN_DATA\"] = '/mnt/DATA/Prez/code/miniscope_repos/CaImAn'\n",
    "min_SNR = 2.5         # adaptive way to set threshold on the transient size\n",
    "r_values_min = 0.8    # threshold on space consistency (if you lower more components\n",
    "#                        will be accepted, potentially with worst quality)\n",
    "cnm.params.set('quality', {'min_SNR': min_SNR,\n",
    "                           'rval_thr': r_values_min,\n",
    "                           'use_cnn': True,\n",
    "                           'min_cnn_thr': 0.99,\n",
    "                           'cnn_lowest': 0.1\n",
    "                          })\n",
    "cnm.estimates.evaluate_components(images, cnm.params, dview=dview)\n",
    "\n",
    "print(' ***** ')\n",
    "print('Number of total components: ', len(cnm.estimates.C))\n",
    "print('Number of accepted components: ', len(cnm.estimates.idx_components))"
   ]
  },
  {
   "cell_type": "code",
   "execution_count": null,
   "metadata": {},
   "outputs": [],
   "source": [
    "#plt.hist(cnm.estimates.cnn_preds)\n",
    "cnm.estimates.cnn_preds"
   ]
  },
  {
   "cell_type": "markdown",
   "metadata": {},
   "source": [
    "## Plot results"
   ]
  },
  {
   "cell_type": "code",
   "execution_count": null,
   "metadata": {},
   "outputs": [],
   "source": [
    "neuronsToPlot = 20\n",
    "\n",
    "DeconvTraces = cnm.estimates.S[cnm.estimates.idx_components,:]\n",
    "RawTraces = cnm.estimates.C[cnm.estimates.idx_components,:]\n",
    "SFP = cnm.estimates.A[:,cnm.estimates.idx_components]\n",
    "SFP_dims = list(dims)\n",
    "SFP_dims.append(SFP.shape[1])\n",
    "print('Spatial foootprints dimensions (height x width x neurons): ' + str(SFP_dims))\n",
    "\n",
    "numNeurons = SFP_dims[2]\n",
    "\n",
    "SFP = np.reshape(SFP.toarray(), SFP_dims, order='F')\n",
    "\n",
    "maxRawTraces = np.amax(RawTraces)\n",
    "\n",
    "plt.figure(figsize=(30,15))\n",
    "plt.subplot(3,2,1); plt.imshow(cn_filter); plt.colorbar(); plt.title('Correlation projection')\n",
    "plt.subplot(3,2,3); plt.imshow(pnr); plt.colorbar(); plt.title('PNR')\n",
    "plt.subplot(3,2,5); plt.imshow(np.amax(SFP,axis=2)); plt.colorbar(); plt.title('Spatial footprints')\n",
    "\n",
    "plt.subplot(3,2,2); plt.figure; plt.title('Example traces (first 20 cells)')\n",
    "plot_gain = 10 # To change the value gain of traces\n",
    "if numNeurons >= neuronsToPlot:\n",
    "  for i in range(neuronsToPlot):\n",
    "    if i == 0:\n",
    "      plt.plot(RawTraces[i,:],'k')\n",
    "    else:\n",
    "      trace = RawTraces[i,:] + maxRawTraces*i/plot_gain\n",
    "      plt.plot(trace,'k')\n",
    "else:\n",
    "  for i in range(numNeurons):\n",
    "    if i == 0:\n",
    "      plt.plot(RawTraces[i,:],'k')\n",
    "    else:\n",
    "      trace = RawTraces[i,:] + maxRawTraces*i/plot_gain\n",
    "      plt.plot(trace,'k')\n",
    "\n",
    "plt.subplot(3,2,4); plt.figure; plt.title('Deconvolved traces (first 20 cells)')\n",
    "plot_gain = 20 # To change the value gain of traces\n",
    "if numNeurons >= neuronsToPlot:\n",
    "  for i in range(neuronsToPlot):\n",
    "    if i == 0:\n",
    "      plt.plot(DeconvTraces[i,:],'k')\n",
    "    else:\n",
    "      trace = DeconvTraces[i,:] + maxRawTraces*i/plot_gain\n",
    "      plt.plot(trace,'k')\n",
    "else:\n",
    "  for i in range(numNeurons):\n",
    "    if i == 0:\n",
    "      plt.plot(DeconvTraces[i,:],'k')\n",
    "    else:\n",
    "      trace = DeconvTraces[i,:] + maxRawTraces*i/plot_gain\n",
    "      plt.plot(trace,'k')\n",
    "\n",
    "#plt.savefig('/tmp/' + 'summary_figure.svg', edgecolor='w', format='svg', transparent=True)"
   ]
  },
  {
   "cell_type": "code",
   "execution_count": null,
   "metadata": {},
   "outputs": [],
   "source": [
    "#cnm.estimates.plot_contours_nb(img=Cn, idx=cnm2.estimates.idx_components)\n",
    "Cn = cm.local_correlations(images.transpose(1,2,0))\n",
    "Cn[np.isnan(Cn)] = 0\n",
    "cnm.estimates.plot_contours_nb(img=Cn, idx=cnm.estimates.idx_components, thr=0.7)"
   ]
  },
  {
   "cell_type": "markdown",
   "metadata": {},
   "source": [
    "## cnm.estimates.nb_view_components(img=Cn, idx=cnm.estimates.idx_components, thr=0.8)"
   ]
  },
  {
   "cell_type": "code",
   "execution_count": null,
   "metadata": {},
   "outputs": [],
   "source": [
    "# Stop the cluster\n",
    "cm.stop_server(dview=dview)"
   ]
  },
  {
   "cell_type": "code",
   "execution_count": null,
   "metadata": {},
   "outputs": [],
   "source": [
    "movie = cnm.estimates.play_movie(images, q_max=99.9, gain_res=4,\n",
    "                                 magnification=2,\n",
    "                                 bpx=0,\n",
    "                                 include_bck=False,\n",
    "                                 use_color=True,\n",
    "                                 frame_range=range(3000,3500))"
   ]
  }
 ],
 "metadata": {
  "kernelspec": {
   "display_name": "Python 3",
   "language": "python",
   "name": "python3"
  },
  "language_info": {
   "codemirror_mode": {
    "name": "ipython",
    "version": 3
   },
   "file_extension": ".py",
   "mimetype": "text/x-python",
   "name": "python",
   "nbconvert_exporter": "python",
   "pygments_lexer": "ipython3",
   "version": "3.7.9"
  }
 },
 "nbformat": 4,
 "nbformat_minor": 2
}
