{
 "cells": [
  {
   "cell_type": "markdown",
   "metadata": {},
   "source": [
    "## Motion Correction \n",
    "\n",
    "Motion correction run on sample videos\n"
   ]
  },
  {
   "cell_type": "code",
   "execution_count": null,
   "metadata": {},
   "outputs": [],
   "source": [
    "from builtins import zip\n",
    "from builtins import str\n",
    "from builtins import map\n",
    "from builtins import range\n",
    "from past.utils import old_div\n",
    "\n",
    "import cv2\n",
    "import glob\n",
    "import matplotlib.pyplot as plt\n",
    "import numpy as np\n",
    "import os\n",
    "import psutil\n",
    "import scipy\n",
    "from skimage.external.tifffile import TiffFile\n",
    "import sys\n",
    "import time\n",
    "import logging\n",
    "\n",
    "try:\n",
    "    cv2.setNumThreads(0)\n",
    "except:\n",
    "    pass\n",
    "\n",
    "try:\n",
    "    if __IPYTHON__:\n",
    "        get_ipython().magic('load_ext autoreload')\n",
    "        get_ipython().magic('autoreload 2')\n",
    "except NameError:\n",
    "    pass\n",
    "\n",
    "logging.basicConfig(format=\n",
    "                          \"%(relativeCreated)12d [%(filename)s:%(funcName)20s():%(lineno)s] [%(process)d] %(message)s\",\n",
    "                    level=logging.INFO)\n",
    "\n",
    "import caiman as cm\n",
    "from caiman.motion_correction import MotionCorrect, tile_and_correct, motion_correction_piecewise\n",
    "from caiman.utils.utils import download_demo"
   ]
  },
  {
   "cell_type": "markdown",
   "metadata": {},
   "source": [
    "List files for motion correction"
   ]
  },
  {
   "cell_type": "code",
   "execution_count": null,
   "metadata": {
    "scrolled": true
   },
   "outputs": [],
   "source": [
    "#vid_dir = '/home/prez/neurodata/cheeseboard-down/down_2/2020-10/habituation/2020_10_08/trial/N-BL/Session1/14_16_09/Miniscope/'\n",
    "animal_name = 'R-TR'\n",
    "vid_dir = '/home/prez/neurodata/cheeseboard/2020-10/test_session/R-TR/Miniscope/'\n",
    "fnames = ['0.avi']\n",
    "fpaths = [vid_dir + f for f in fnames]"
   ]
  },
  {
   "cell_type": "markdown",
   "metadata": {},
   "source": [
    "Remove noise"
   ]
  },
  {
   "cell_type": "code",
   "execution_count": null,
   "metadata": {},
   "outputs": [],
   "source": [
    "import downsample\n",
    "import remove_noise\n",
    "\n",
    "crop_and_downsample = True\n",
    "spatial_downsample = 2\n",
    "apply_noise_removal = False\n",
    "\n",
    "if crop_and_downsample:\n",
    "    crop_roi, rotation = downsample.get_roi_xy(\n",
    "        '/home/prez/neurodata/cheeseboard/2020-10/test_session/rois.csv',\n",
    "        animal_name)\n",
    "    fpaths = [downsample.crop_and_downsample(video, crop_roi, rotation,\n",
    "                                             spatial_downsample, replace_video=False) \n",
    "              for video in fpaths]\n",
    "\n",
    "if apply_noise_removal:\n",
    "    maskFFT = remove_noise.create_FFT_Mask(fpaths)\n",
    "    meanFrame = remove_noise.calc_mean_frame_vals(fpaths)\n",
    "    meanFrameFiltered = remove_noise.lowpass_filter_vals(meanFrame)\n",
    "    remove_noise.denoise_vids(fpaths, maskFFT, meanFrameFiltered, replace_vid=False, output_dir='denoised')\n",
    "    fpaths = [os.path.dirname(fpaths[0]) + '/denoised/' + f for f in fnames]"
   ]
  },
  {
   "cell_type": "code",
   "execution_count": null,
   "metadata": {},
   "outputs": [],
   "source": [
    "#import importlib\n",
    "#importlib.reload(downsample)\n",
    "#downsample.crop_and_downsample(fpaths[0], crop_roi, 1, 343,\n",
    "#                                             replace_video=False)"
   ]
  },
  {
   "cell_type": "code",
   "execution_count": null,
   "metadata": {},
   "outputs": [],
   "source": [
    "m_orig = cm.load_movie_chain(fpaths)\n",
    "downsample_ratio = .2  # motion can be perceived better when downsampling in time\n",
    "#m_orig.resize(1, 1, downsample_ratio).play(q_max=99.5, fr=20, magnification=1)   # play movie (press q to exit)"
   ]
  },
  {
   "cell_type": "code",
   "execution_count": null,
   "metadata": {},
   "outputs": [],
   "source": [
    "#%% start the cluster (if a cluster already exists terminate it)\n",
    "if 'dview' in locals():\n",
    "    cm.stop_server(dview=dview)\n",
    "c, dview, n_processes = cm.cluster.setup_cluster(\n",
    "    backend='local', n_processes=None, single_thread=False)"
   ]
  },
  {
   "cell_type": "code",
   "execution_count": null,
   "metadata": {},
   "outputs": [],
   "source": [
    "max_shifts = (8, 8)  # maximum allowed rigid shift in pixels (view the movie to get a sense of motion)\n",
    "strides =  (48, 48)  # create a new patch every x pixels for pw-rigid correction\n",
    "overlaps = (16, 16)  # overlap between pathes (size of patch strides+overlaps)\n",
    "num_frames_split = 100  # length in frames of each chunk of the movie (to be processed in parallel)\n",
    "max_deviation_rigid = 3   # maximum deviation allowed for patch with respect to rigid shifts\n",
    "pw_rigid = False  # flag for performing rigid or piecewise rigid motion correction\n",
    "shifts_opencv = True  # flag for correcting motion using bicubic interpolation (otherwise FFT interpolation is used)\n",
    "border_nan = 'copy'  # replicate values along the boundary (if True, fill in with NaN)\n",
    "gSig_filt = 9"
   ]
  },
  {
   "cell_type": "code",
   "execution_count": null,
   "metadata": {},
   "outputs": [],
   "source": [
    "from caiman.motion_correction import motion_correct_oneP_rigid, motion_correct_oneP_nonrigid     \n",
    "mc = motion_correct_oneP_rigid(fpaths,                                  \n",
    "                               gSig_filt=(gSig_filt, gSig_filt),                                                                                                                          \n",
    "                               max_shifts=max_shifts,                       \n",
    "                               dview=dview,               \n",
    "                               splits_rig=2,                       \n",
    "                               save_movie=True,                             \n",
    "                               border_nan=border_nan)  \n",
    "new_templ = mc.total_template_rig"
   ]
  },
  {
   "cell_type": "code",
   "execution_count": null,
   "metadata": {},
   "outputs": [],
   "source": [
    "# load motion corrected movie\n",
    "#m_rig = cm.load(mc.5map_file)\n",
    "print(crop_roi)\n",
    "gSig_filt = 9\n",
    "m_rig = cm.load(mc.fname_tot_rig)\n",
    "bord_px_rig = np.ceil(np.max(mc.shifts_rig)).astype(np.int)\n",
    "m_rig.shape\n",
    "hpass_img = cm.motion_correction.high_pass_filter_space(m_rig[200,:,:], (gSig_filt,gSig_filt))\n",
    "plt.imshow(hpass_img, cmap = 'gray')"
   ]
  },
  {
   "cell_type": "code",
   "execution_count": null,
   "metadata": {
    "scrolled": true
   },
   "outputs": [],
   "source": [
    "#%% inspect movie\n",
    "#m_rig.resize(1, 1, downsample_ratio).play(\n",
    "#    q_max=99.5, fr=20, magnification=2, bord_px = 0*bord_px_rig) # press q to exit"
   ]
  },
  {
   "cell_type": "markdown",
   "metadata": {},
   "source": [
    "plot the shifts computed by rigid registration"
   ]
  },
  {
   "cell_type": "code",
   "execution_count": null,
   "metadata": {},
   "outputs": [],
   "source": [
    "#%% plot rigid shifts\n",
    "plt.close()\n",
    "plt.figure(figsize = (20,10))\n",
    "plt.plot(mc.shifts_rig)\n",
    "plt.legend(['x shifts','y shifts'])\n",
    "plt.xlabel('frames')\n",
    "plt.ylabel('pixels')"
   ]
  },
  {
   "cell_type": "markdown",
   "metadata": {},
   "source": [
    "## Piecewise rigid registration\n",
    "While rigid registration corrected for a lot of the movement, there is still non-uniform motion present in the registered file. To correct for that we can use piece-wise rigid registration **directly in the original file** by setting `mc.pw_rigid=True`. As before the registered file is saved in a memory mapped format in the location given by `mc.mmap_file`."
   ]
  },
  {
   "cell_type": "code",
   "execution_count": null,
   "metadata": {},
   "outputs": [],
   "source": [
    "%%capture\n",
    "#%% motion correct piecewise rigid\n",
    "#mc.pw_rigid = True  # turn the flag to True for pw-rigid motion correction\n",
    "#mc.template = mc.mmap_file  # use the template obtained before to save in computation (optional)\n",
    "\n",
    "#mc.motion_correct(save_movie=True, template=mc.total_template_rig)\n",
    "mc.motion_correct_pwrigid(save_movie=True, template=new_templ)\n",
    "#mc = motion_correct_oneP_nonrigid(                                                                                                                                       \n",
    "#    fpaths,                                                         \n",
    "#    gSig_filt=gSig_filt,                                                \n",
    "#    max_shifts=max_shifts,                                              \n",
    "#    strides=strides,                                                    \n",
    "#    overlaps=overlaps,                                                  \n",
    "#    splits_els=2,                                              \n",
    "#    upsample_factor_grid=4,                          \n",
    "#    max_deviation_rigid=max_deviation_rigid,                            \n",
    "#    dview=dview,                                                        \n",
    "#    splits_rig=None,                                                    \n",
    "#    save_movie=True,                                                    \n",
    "#    new_templ=new_templ,  # template to initialize motion correction\n",
    "#    border_nan='copy'                                                   \n",
    "#)\n",
    "\n",
    "m_els = cm.load(mc.fname_tot_els)\n",
    "#m_els.resize(1, 1, downsample_ratio).play(\n",
    "#    q_max=99.5, fr=30, magnification=2,bord_px = bord_px_rig)"
   ]
  },
  {
   "cell_type": "markdown",
   "metadata": {},
   "source": [
    "Now concatenate all the movies (raw, rigid, and pw-rigid) for inspection"
   ]
  },
  {
   "cell_type": "code",
   "execution_count": null,
   "metadata": {},
   "outputs": [],
   "source": [
    "cm.concatenate([m_orig.resize(1, 1, downsample_ratio) - mc.min_mov*mc.nonneg_movie,\n",
    "                m_rig.resize(1, 1, downsample_ratio), m_els.resize(\n",
    "            1, 1, downsample_ratio)], axis=2).play(fr=20, q_max=99.5, magnification=2, bord_px=bord_px_rig)"
   ]
  },
  {
   "cell_type": "code",
   "execution_count": null,
   "metadata": {},
   "outputs": [],
   "source": [
    "#m_els.save('/tmp/1.avi')"
   ]
  },
  {
   "cell_type": "markdown",
   "metadata": {},
   "source": [
    "From the movie we can see that pw-rigid registration corrected for the non uniform motion of the data. This was done by estimating different displacement vectors for the different patches in the FOV. This can be visualized by plotting all the computed shifts were a dispersion in the shifts in the y direction is apparent. In this case, the shifts along the two axes are stored in `mc.x_shifts_els` and `mc.y_shifts_els`, respectively."
   ]
  },
  {
   "cell_type": "code",
   "execution_count": null,
   "metadata": {
    "scrolled": false
   },
   "outputs": [],
   "source": [
    "#%% visualize elastic shifts\n",
    "plt.close()\n",
    "plt.figure(figsize = (20,10))\n",
    "plt.subplot(2, 1, 1)\n",
    "plt.plot(mc.x_shifts_els)\n",
    "plt.ylabel('x shifts (pixels)')\n",
    "plt.subplot(2, 1, 2)\n",
    "plt.plot(mc.y_shifts_els)\n",
    "plt.ylabel('y_shifts (pixels)')\n",
    "plt.xlabel('frames')\n",
    "#%% compute borders to exclude\n",
    "bord_px_els = np.ceil(np.maximum(np.max(np.abs(mc.x_shifts_els)),\n",
    "                                 np.max(np.abs(mc.y_shifts_els)))).astype(np.int)"
   ]
  },
  {
   "cell_type": "markdown",
   "metadata": {},
   "source": [
    "The improvement in performance can also be seen by a more crisp summary statistic image. Below we plot the correlation images for the three datasets."
   ]
  },
  {
   "cell_type": "code",
   "execution_count": null,
   "metadata": {},
   "outputs": [],
   "source": [
    "plt.figure(figsize = (20,10))\n",
    "plt.subplot(1,3,1); plt.imshow(m_orig.local_correlations(eight_neighbours=True, swap_dim=False))\n",
    "plt.subplot(1,3,2); plt.imshow(m_rig.local_correlations(eight_neighbours=True, swap_dim=False))\n",
    "plt.subplot(1,3,3); plt.imshow(m_els.local_correlations(eight_neighbours=True, swap_dim=False))"
   ]
  },
  {
   "cell_type": "code",
   "execution_count": null,
   "metadata": {},
   "outputs": [],
   "source": [
    "cm.stop_server(dview=dview) # stop the server"
   ]
  },
  {
   "cell_type": "markdown",
   "metadata": {},
   "source": [
    "## Quality assessment \n",
    "\n",
    "Apart from inspection, the performance of the registration methods can be quantified using several measures. Below we compute measures such as correlation of each frame with mean, crispness of summary image, and residual optical flow for all three cases. For more info see [[1]](#normcorre). Note that computation of the residual optical flow can be computationally intensive."
   ]
  },
  {
   "cell_type": "code",
   "execution_count": null,
   "metadata": {
    "scrolled": true
   },
   "outputs": [],
   "source": [
    "%%capture\n",
    "#% compute metrics for the results (TAKES TIME!!)\n",
    "final_size = np.subtract(mc.total_template_els.shape, 2 * bord_px_els) # remove pixels in the boundaries\n",
    "winsize = 100\n",
    "swap_dim = False\n",
    "resize_fact_flow = .2    # downsample for computing ROF\n",
    "\n",
    "tmpl_rig, correlations_orig, flows_orig, norms_orig, crispness_orig = cm.motion_correction.compute_metrics_motion_correction(\n",
    "    fpaths[0], final_size[0], final_size[1], swap_dim, winsize=winsize, play_flow=False, resize_fact_flow=resize_fact_flow)\n",
    "\n",
    "tmpl_rig, correlations_rig, flows_rig, norms_rig, crispness_rig = cm.motion_correction.compute_metrics_motion_correction(\n",
    "    mc.fname_tot_rig[0], final_size[0], final_size[1],\n",
    "    swap_dim, winsize=winsize, play_flow=False, resize_fact_flow=resize_fact_flow)\n",
    "\n",
    "tmpl_els, correlations_els, flows_els, norms_els, crispness_els = cm.motion_correction.compute_metrics_motion_correction(\n",
    "    mc.fname_tot_els[0], final_size[0], final_size[1],\n",
    "    swap_dim, winsize=winsize, play_flow=False, resize_fact_flow=resize_fact_flow)"
   ]
  },
  {
   "cell_type": "markdown",
   "metadata": {},
   "source": [
    "Plot correlation with mean frame for each dataset"
   ]
  },
  {
   "cell_type": "code",
   "execution_count": null,
   "metadata": {},
   "outputs": [],
   "source": [
    "plt.figure(figsize = (20,10))\n",
    "plt.subplot(211); plt.plot(correlations_orig); plt.plot(correlations_rig); plt.plot(correlations_els)\n",
    "plt.legend(['Original','Rigid','PW-Rigid'])\n",
    "plt.subplot(223); plt.scatter(correlations_orig, correlations_rig); plt.xlabel('Original'); \n",
    "plt.ylabel('Rigid'); plt.plot([0.9,1.0],[0.9,1.0],'r--')\n",
    "axes = plt.gca(); axes.set_xlim([0.9,1.0]); axes.set_ylim([0.9,1.0]); plt.axis('square');\n",
    "plt.subplot(224); plt.scatter(correlations_rig, correlations_els); plt.xlabel('Rigid'); \n",
    "plt.ylabel('PW-Rigid'); plt.plot([0.9,1.0],[0.9, 1.0],'r--')\n",
    "axes = plt.gca(); axes.set_xlim([0.9,1.0]); axes.set_ylim([0.9,1.0]); plt.axis('square');\n"
   ]
  },
  {
   "cell_type": "code",
   "execution_count": null,
   "metadata": {},
   "outputs": [],
   "source": [
    "# print crispness values\n",
    "print('Crispness original: '+ str(int(crispness_orig)))\n",
    "print('Crispness rigid: '+ str(int(crispness_rig)))\n",
    "print('Crispness elastic: '+ str(int(crispness_els)))"
   ]
  },
  {
   "cell_type": "code",
   "execution_count": null,
   "metadata": {},
   "outputs": [],
   "source": [
    "#%% plot the results of Residual Optical Flow\n",
    "fls = [mc.fname_tot_els[0][:-4] + '_metrics.npz', mc.fname_tot_rig[0][:-4] +\n",
    "       '_metrics.npz', mc.fname[0][:-4] + '_metrics.npz']\n",
    "\n",
    "plt.figure(figsize = (20,10))\n",
    "for cnt, fl, metr in zip(range(len(fls)),fls,['pw_rigid','rigid','raw']):\n",
    "    with np.load(fl) as ld:\n",
    "        print(ld.keys())\n",
    "        print(fl)\n",
    "        print(str(np.mean(ld['norms'])) + '+/-' + str(np.std(ld['norms'])) +\n",
    "              ' ; ' + str(ld['smoothness']) + ' ; ' + str(ld['smoothness_corr']))\n",
    "        \n",
    "        plt.subplot(len(fls), 3, 1 + 3 * cnt)\n",
    "        plt.ylabel(metr)\n",
    "        try:\n",
    "            mean_img = np.mean(\n",
    "            cm.load(fl[:-12] + 'mmap'), 0)[12:-12, 12:-12]\n",
    "        except:\n",
    "            try:\n",
    "                mean_img = np.mean(\n",
    "                    cm.load(fl[:-12] + '.avi'), 0)[12:-12, 12:-12]\n",
    "            except:\n",
    "                mean_img = np.mean(\n",
    "                    cm.load(fl[:-12] + 'hdf5'), 0)[12:-12, 12:-12]\n",
    "                    \n",
    "        lq, hq = np.nanpercentile(mean_img, [.5, 99.8])\n",
    "        plt.imshow(mean_img, vmin=lq, vmax=hq)\n",
    "        plt.title('Mean')\n",
    "        plt.subplot(len(fls), 3, 3 * cnt + 2)\n",
    "        plt.imshow(ld['img_corr'], vmin=0.2, vmax=.85)\n",
    "        plt.title('Corr image')\n",
    "        plt.subplot(len(fls), 3, 3 * cnt + 3)\n",
    "        #plt.plot(ld['norms'])\n",
    "        #plt.xlabel('frame')\n",
    "        #plt.ylabel('norm opt flow')\n",
    "        #plt.subplot(len(fls), 3, 3 * cnt + 3)\n",
    "        flows = ld['flows']\n",
    "        plt.imshow(np.mean(\n",
    "        np.sqrt(flows[:, :, :, 0]**2 + flows[:, :, :, 1]**2), 0), vmin=0, vmax=0.1)\n",
    "        plt.colorbar()\n",
    "        plt.title('Mean optical flow')      "
   ]
  },
  {
   "cell_type": "code",
   "execution_count": null,
   "metadata": {},
   "outputs": [],
   "source": []
  }
 ],
 "metadata": {
  "kernelspec": {
   "display_name": "Python 3",
   "language": "python",
   "name": "python3"
  },
  "language_info": {
   "codemirror_mode": {
    "name": "ipython",
    "version": 3
   },
   "file_extension": ".py",
   "mimetype": "text/x-python",
   "name": "python",
   "nbconvert_exporter": "python",
   "pygments_lexer": "ipython3",
   "version": "3.7.9"
  }
 },
 "nbformat": 4,
 "nbformat_minor": 2
}
